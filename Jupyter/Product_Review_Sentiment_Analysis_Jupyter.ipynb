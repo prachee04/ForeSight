{
 "cells": [
  {
   "cell_type": "code",
   "execution_count": 1,
   "id": "e3cd5a69",
   "metadata": {},
   "outputs": [],
   "source": [
    "import pandas as pd\n",
    "from transformers import pipeline\n",
    "from collections import defaultdict"
   ]
  },
  {
   "cell_type": "code",
   "execution_count": 2,
   "id": "7836c4e6",
   "metadata": {},
   "outputs": [
    {
     "name": "stdout",
     "output_type": "stream",
     "text": [
      "   ProductID          ProductName     Category  Price  QuantitySold  \\\n",
      "0          1  Wireless Headphones  Electronics  59.99           150   \n",
      "1          2    Organic Green Tea    Beverages  14.99           200   \n",
      "2          3             Yoga Mat       Sports  24.99           120   \n",
      "3          4        LED Desk Lamp         Home  39.99            80   \n",
      "4          5     Smartphone Stand  Accessories   9.99           300   \n",
      "\n",
      "   TotalSales  ReviewRating                                         ReviewText  \n",
      "0      8998.5             5  Absolutely love this product! Exceeded all my ...  \n",
      "1      2998.0             4       Very good, but there's room for improvement.  \n",
      "2      2998.8             4    Great product, but could use some enhancements.  \n",
      "3      3199.2             3  Average quality, expected a bit more for the p...  \n",
      "4      2997.0             2      Below average quality, wouldn't recommend it.  \n"
     ]
    }
   ],
   "source": [
    "# 1. Loading Dataset\n",
    "\n",
    "#Path of Dataset stored locally on your system\n",
    "dataset_path = 'C:/Users/anuje/Desktop/Walmart Sparkathon/products_sales_reviews_diverse.csv'\n",
    "df = pd.read_csv(dataset_path)\n",
    "print(df.head())  # Testing if the data is being accessed properly or not"
   ]
  },
  {
   "cell_type": "code",
   "execution_count": 3,
   "id": "01cd9d98",
   "metadata": {},
   "outputs": [],
   "source": [
    "# Preprocess data\n",
    "def preprocess_data(text):\n",
    "    text = text.lower()\n",
    "    text = ''.join([char for char in text if char.isalnum() or char.isspace()])\n",
    "    return text\n",
    "\n",
    "df['cleaned_Review'] = df['ReviewText'].apply(preprocess_data)"
   ]
  },
  {
   "cell_type": "code",
   "execution_count": 4,
   "id": "545bce41",
   "metadata": {},
   "outputs": [],
   "source": [
    "# Initialize sentiment analysis pipeline with a specified model\n",
    "sentiment_pipeline = pipeline('sentiment-analysis', model='distilbert-base-uncased-finetuned-sst-2-english', top_k=None)\n",
    "\n",
    "# Perform sentiment analysis and capture both positive and negative scores\n",
    "def extract_scores(sentiment):\n",
    "    scores = {item['label']: item['score'] for item in sentiment}\n",
    "    positive_score = scores.get('POSITIVE', 0)\n",
    "    negative_score = scores.get('NEGATIVE', 0)\n",
    "    return positive_score, negative_score\n",
    "\n",
    "df['positive_score'], df['negative_score'] = zip(*df['cleaned_Review'].apply(lambda x: extract_scores(sentiment_pipeline(x)[0])))\n"
   ]
  },
  {
   "cell_type": "code",
   "execution_count": 5,
   "id": "f1762713",
   "metadata": {},
   "outputs": [],
   "source": [
    "# Calculate Net Sentiment Score\n",
    "df['net_sentiment_score'] = 2 * df['positive_score'] - 1\n",
    "\n",
    "# Transform Net Sentiment Score to a 1-10 scale\n",
    "df['sentiment_score_1_10'] = ((df['net_sentiment_score'] + 1) / 2) * 9 + 1"
   ]
  },
  {
   "cell_type": "code",
   "execution_count": 6,
   "id": "df319ee1",
   "metadata": {},
   "outputs": [],
   "source": [
    "# Calculate average scores for each product\n",
    "product_sentiment = defaultdict(list)\n",
    "\n",
    "for _, row in df.iterrows():\n",
    "    product_sentiment[row['ProductID']].append({\n",
    "        'ProductName': row['ProductName'],\n",
    "        'Category': row['Category'],\n",
    "        'PositiveScore': row['positive_score'],\n",
    "        'NegativeScore': row['negative_score'],\n",
    "        'NetSentimentScore': row['net_sentiment_score'],\n",
    "        'SentimentScore1_10': row['sentiment_score_1_10']\n",
    "    })\n"
   ]
  },
  {
   "cell_type": "code",
   "execution_count": 7,
   "id": "c03a2622",
   "metadata": {},
   "outputs": [],
   "source": [
    "# Calculate average positive, negative, net sentiment, and scaled sentiment scores for each product\n",
    "avg_product_sentiments = {}\n",
    "for product, entries in product_sentiment.items():\n",
    "    avg_positive_score = sum(entry['PositiveScore'] for entry in entries) / len(entries)\n",
    "    avg_negative_score = sum(entry['NegativeScore'] for entry in entries) / len(entries)\n",
    "    avg_net_sentiment_score = sum(entry['NetSentimentScore'] for entry in entries) / len(entries)\n",
    "    avg_sentiment_score_1_10 = sum(entry['SentimentScore1_10'] for entry in entries) / len(entries)\n",
    "    product_name = entries[0]['ProductName']\n",
    "    category = entries[0]['Category']\n",
    "    avg_product_sentiments[product] = (product_name, category, avg_positive_score, avg_negative_score, avg_net_sentiment_score, avg_sentiment_score_1_10)\n"
   ]
  },
  {
   "cell_type": "code",
   "execution_count": 8,
   "id": "d080be1e",
   "metadata": {},
   "outputs": [],
   "source": [
    "# Rank products by the 1-10 scaled sentiment score\n",
    "ranked_products = sorted(avg_product_sentiments.items(), key=lambda x: x[1][5], reverse=True)\n",
    "\n",
    "# Convert to DataFrame\n",
    "ranked_df = pd.DataFrame(\n",
    "    [(product, product_name, category, pos_score, neg_score, net_score, scale_score)\n",
    "     for product, (product_name, category, pos_score, neg_score, net_score, scale_score) in ranked_products],\n",
    "    columns=['ProductId', 'ProductName', 'Category', 'AvgPositiveScore', 'AvgNegativeScore', 'NetSentimentScore', 'SentimentScore1_10'])\n"
   ]
  },
  {
   "cell_type": "code",
   "execution_count": 9,
   "id": "779c3ecf",
   "metadata": {},
   "outputs": [],
   "source": [
    "# Calculate and add average positive, negative, net sentiment, and scaled sentiment scores for each category\n",
    "category_scores = ranked_df.groupby('Category').agg({\n",
    "    'AvgPositiveScore': 'mean',\n",
    "    'AvgNegativeScore': 'mean',\n",
    "    'NetSentimentScore': 'mean',\n",
    "    'SentimentScore1_10': 'mean'\n",
    "}).reset_index()"
   ]
  },
  {
   "cell_type": "code",
   "execution_count": 10,
   "id": "4ea57c92",
   "metadata": {},
   "outputs": [
    {
     "name": "stdout",
     "output_type": "stream",
     "text": [
      "Ranked Products based on 1-10 Sentiment Scores:\n",
      "   ProductId  ProductName     Category  AvgPositiveScore  AvgNegativeScore  \\\n",
      "0         14   Product 14         Home          0.999877          0.000123   \n",
      "1         26   Product 26         Toys          0.999877          0.000123   \n",
      "2         79   Product 79  Accessories          0.999877          0.000123   \n",
      "3         89   Product 89        Books          0.999877          0.000123   \n",
      "4        128  Product 128      Fashion          0.999877          0.000123   \n",
      "5        138  Product 138         Home          0.999877          0.000123   \n",
      "6        166  Product 166       Sports          0.999877          0.000123   \n",
      "7        174  Product 174        Books          0.999877          0.000123   \n",
      "8        182  Product 182  Accessories          0.999877          0.000123   \n",
      "9        249  Product 249    Beverages          0.999877          0.000123   \n",
      "\n",
      "   NetSentimentScore  SentimentScore1_10  \n",
      "0           0.999754            9.998895  \n",
      "1           0.999754            9.998895  \n",
      "2           0.999754            9.998895  \n",
      "3           0.999754            9.998895  \n",
      "4           0.999754            9.998895  \n",
      "5           0.999754            9.998895  \n",
      "6           0.999754            9.998895  \n",
      "7           0.999754            9.998895  \n",
      "8           0.999754            9.998895  \n",
      "9           0.999754            9.998895  \n",
      "\n",
      "Category Average Sentiment Scores:\n",
      "      Category  AvgPositiveScore  AvgNegativeScore  NetSentimentScore  \\\n",
      "0  Accessories          0.382226          0.617774          -0.235549   \n",
      "1       Beauty          0.403982          0.596018          -0.192036   \n",
      "2    Beverages          0.439090          0.560910          -0.121821   \n",
      "3        Books          0.390153          0.609847          -0.219695   \n",
      "4  Electronics          0.380335          0.619665          -0.239329   \n",
      "5      Fashion          0.487112          0.512888          -0.025776   \n",
      "6         Home          0.322854          0.677146          -0.354293   \n",
      "7      Kitchen          0.405043          0.594957          -0.189915   \n",
      "8       Sports          0.408904          0.591096          -0.182192   \n",
      "9         Toys          0.319890          0.680110          -0.360220   \n",
      "\n",
      "   SentimentScore1_10  \n",
      "0            4.440031  \n",
      "1            4.635839  \n",
      "2            4.951807  \n",
      "3            4.511374  \n",
      "4            4.423018  \n",
      "5            5.384008  \n",
      "6            3.905683  \n",
      "7            4.645385  \n",
      "8            4.680136  \n",
      "9            3.879008  \n"
     ]
    }
   ],
   "source": [
    "# Save DataFrames to CSV files\n",
    "ranked_df.to_csv('ranked_products_with_net_sentiments.csv', index=False)\n",
    "category_scores.to_csv('category_avg_net_sentiments.csv', index=False)\n",
    "\n",
    "# Print the top 10 ranked products based on the 1-10 sentiment scores\n",
    "print(\"Ranked Products based on 1-10 Sentiment Scores:\")\n",
    "print(ranked_df.head(10))\n",
    "\n",
    "# Print the category average sentiment scores\n",
    "print(\"\\nCategory Average Sentiment Scores:\")\n",
    "print(category_scores)"
   ]
  }
 ],
 "metadata": {
  "kernelspec": {
   "display_name": "Python 3 (ipykernel)",
   "language": "python",
   "name": "python3"
  },
  "language_info": {
   "codemirror_mode": {
    "name": "ipython",
    "version": 3
   },
   "file_extension": ".py",
   "mimetype": "text/x-python",
   "name": "python",
   "nbconvert_exporter": "python",
   "pygments_lexer": "ipython3",
   "version": "3.10.9"
  }
 },
 "nbformat": 4,
 "nbformat_minor": 5
}
